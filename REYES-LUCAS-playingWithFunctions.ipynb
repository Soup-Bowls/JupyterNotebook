{
 "cells": [
  {
   "cell_type": "markdown",
   "id": "949cafa8",
   "metadata": {},
   "source": [
    "##### Student number: 204303\n",
    "##### Surname: Reyes\n",
    "##### Year and Course: 2 BS ITE"
   ]
  },
  {
   "cell_type": "markdown",
   "id": "8233812c",
   "metadata": {},
   "source": [
    "### Problem 1\n",
    "#### Factorial\n",
    "\n"
   ]
  },
  {
   "cell_type": "code",
   "execution_count": 9,
   "id": "a0a2a04e",
   "metadata": {},
   "outputs": [],
   "source": [
    "import math\n",
    "def problem_1(x):\n",
    "    if x<0:\n",
    "        factorial = \"NA\"\n",
    "    else:\n",
    "        factorial = math.factorial(x)\n",
    "    return factorial"
   ]
  },
  {
   "cell_type": "code",
   "execution_count": 11,
   "id": "171b9472",
   "metadata": {},
   "outputs": [
    {
     "name": "stdout",
     "output_type": "stream",
     "text": [
      "10\n",
      "3628800\n"
     ]
    }
   ],
   "source": [
    "x = int(input())\n",
    "\n",
    "factorial = problem_1(x)\n",
    "print(factorial)"
   ]
  },
  {
   "cell_type": "markdown",
   "id": "c99f8923",
   "metadata": {},
   "source": [
    "### Problem 2\n",
    "#### Guessing Game"
   ]
  },
  {
   "cell_type": "code",
   "execution_count": 77,
   "id": "dbcc1c00",
   "metadata": {},
   "outputs": [],
   "source": [
    "def problem_2(key):\n",
    "\n",
    "    guess = int(3)\n",
    "    password = \"\"\n",
    "    \n",
    "    while password != key:\n",
    "        password = input()\n",
    "        \n",
    "        if password == key:\n",
    "            output = 1\n",
    "            break\n",
    "        else:\n",
    "            guess = guess - 1\n",
    "        \n",
    "        if guess < 1:\n",
    "            output = 0\n",
    "            break\n",
    "            \n",
    "    print(output)"
   ]
  },
  {
   "cell_type": "code",
   "execution_count": 79,
   "id": "bc20f34e",
   "metadata": {},
   "outputs": [
    {
     "name": "stdout",
     "output_type": "stream",
     "text": [
      "password\n",
      "open\n",
      "password\n",
      "1\n"
     ]
    }
   ],
   "source": [
    "key = input()\n",
    "\n",
    "check = problem_2(key)\n",
    "check"
   ]
  },
  {
   "cell_type": "markdown",
   "id": "97879e33",
   "metadata": {},
   "source": [
    "### Problem 3\n",
    "#### Temperature Converter"
   ]
  },
  {
   "cell_type": "code",
   "execution_count": 96,
   "id": "0ceecc46",
   "metadata": {},
   "outputs": [],
   "source": [
    "def problem_3(temp,orig,new):\n",
    "    \n",
    "    if orig == \"Celsius\" and new == \"Fahrenheit\":\n",
    "        ntemp = (temp * (9/5)) + 32\n",
    "    elif orig == \"Fahrenheit\" and new == \"Celsius\":\n",
    "        ntemp = (temp - 32) * (5/9)\n",
    "    elif orig == \"Celsius\" and new == \"Kelvin\":\n",
    "        ntemp = temp + 273.15\n",
    "    elif orig == \"Kelvin\" and new == \"Celsius\":\n",
    "        ntemp = temp - 273.15\n",
    "    elif orig == \"Fahrenheit\" and new == \"Kelvin\":\n",
    "        ntemp = (temp - 32) * (5/9) + 273.15\n",
    "    elif orig == \"Kelvin\" and new == \"Fahrenheit\":\n",
    "        ntemp = ((temp - 273.15) * (9/5)) + 32\n",
    "        \n",
    "    return ntemp"
   ]
  },
  {
   "cell_type": "code",
   "execution_count": 98,
   "id": "3094e5cd",
   "metadata": {},
   "outputs": [
    {
     "name": "stdout",
     "output_type": "stream",
     "text": [
      "Temperature: 0\n",
      "From: Fahrenheit\n",
      "To: Celsius\n",
      "-17.7778  degrees  Celsius\n"
     ]
    }
   ],
   "source": [
    "temp = float(input(\"Temperature: \"))\n",
    "orig = input(\"From: \")\n",
    "new = input(\"To: \")\n",
    "\n",
    "ntemp = problem_3(temp,orig,new)\n",
    "print(round(ntemp,4),\" degrees \",new)"
   ]
  },
  {
   "cell_type": "markdown",
   "id": "a054ed70",
   "metadata": {},
   "source": [
    "### Problem 4\n",
    "#### Exact Change"
   ]
  },
  {
   "cell_type": "code",
   "execution_count": 101,
   "id": "0f8da6fd",
   "metadata": {},
   "outputs": [],
   "source": [
    "def problem_4(cent):\n",
    "    \n",
    "    p1 = int(cent/100)\n",
    "    cent = cent - (100*p1)\n",
    "    c25 = int(cent/25)\n",
    "    cent = cent - (25*c25)\n",
    "    c10 = int(cent/10)\n",
    "    cent = cent - (10*c10)\n",
    "    c5 = int(cent/5)\n",
    "    cent = cent - (5*c5)\n",
    "    c1 = int(cent/1)\n",
    "    \n",
    "    print(\"1P:\",p1,\" / 25C:\",c25,\" / 10C:\",c10,\" / 5C:\",c5,\" / 1C:\",c1)"
   ]
  },
  {
   "cell_type": "code",
   "execution_count": 104,
   "id": "9cbac564",
   "metadata": {},
   "outputs": [
    {
     "name": "stdout",
     "output_type": "stream",
     "text": [
      "149\n",
      "1P: 1  / 25C: 1  / 10C: 2  / 5C: 0  / 1C: 4\n"
     ]
    }
   ],
   "source": [
    "cent = int(input())\n",
    "\n",
    "change = problem_4(cent)"
   ]
  },
  {
   "cell_type": "markdown",
   "id": "dd00702c",
   "metadata": {},
   "source": [
    "### Problem 5\n",
    "#### Invert Capitalization"
   ]
  },
  {
   "cell_type": "code",
   "execution_count": 11,
   "id": "a73f66ff",
   "metadata": {},
   "outputs": [],
   "source": [
    "def problem_5(sen):\n",
    "    inv = \"\"\n",
    "    for char in sen:\n",
    "        if char.isupper() == True:\n",
    "            inv += (char.lower())\n",
    "            \n",
    "        elif char.islower() == True:\n",
    "            inv += (char.upper())\n",
    "        \n",
    "        elif char.isspace() == True:\n",
    "            inv += char\n",
    "            \n",
    "    print(inv)"
   ]
  },
  {
   "cell_type": "code",
   "execution_count": 13,
   "id": "7b8f1bfa",
   "metadata": {},
   "outputs": [
    {
     "name": "stdout",
     "output_type": "stream",
     "text": [
      "wHaTS uP\n",
      "WhAts Up\n"
     ]
    }
   ],
   "source": [
    "sen = input()\n",
    "\n",
    "inv = problem_5(sen)"
   ]
  },
  {
   "cell_type": "code",
   "execution_count": null,
   "id": "6189e464",
   "metadata": {},
   "outputs": [],
   "source": []
  }
 ],
 "metadata": {
  "kernelspec": {
   "display_name": "Python 3",
   "language": "python",
   "name": "python3"
  },
  "language_info": {
   "codemirror_mode": {
    "name": "ipython",
    "version": 3
   },
   "file_extension": ".py",
   "mimetype": "text/x-python",
   "name": "python",
   "nbconvert_exporter": "python",
   "pygments_lexer": "ipython3",
   "version": "3.8.8"
  }
 },
 "nbformat": 4,
 "nbformat_minor": 5
}
