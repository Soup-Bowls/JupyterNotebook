{
 "cells": [
  {
   "cell_type": "markdown",
   "id": "4c0a6c0b",
   "metadata": {},
   "source": [
    "#### Student No.: 204303\n",
    "#### Surname: Reyes\n",
    "#### Year & Course: 2 BS ITE"
   ]
  },
  {
   "cell_type": "markdown",
   "id": "9f8569d6",
   "metadata": {},
   "source": [
    "### Problem 1\n",
    "#### Currency Converter"
   ]
  },
  {
   "cell_type": "code",
   "execution_count": 10,
   "id": "bc63eb4b",
   "metadata": {},
   "outputs": [],
   "source": [
    "def dollars_to_pesos(dollar):\n",
    "    peso = dollar*50\n",
    "    return peso"
   ]
  },
  {
   "cell_type": "code",
   "execution_count": 12,
   "id": "9c54eacf",
   "metadata": {},
   "outputs": [
    {
     "name": "stdout",
     "output_type": "stream",
     "text": [
      "Enter the amount in US Dollars:20\n",
      "20  US dollar(s) = 1000  Philippine pesos.\n"
     ]
    }
   ],
   "source": [
    "dollar = int(input(\"Enter the amount in US Dollars:\"))\n",
    "peso = dollars_to_pesos(dollar)\n",
    "print( dollar, \" US dollar(s) =\", peso, \" Philippine pesos.\")"
   ]
  },
  {
   "cell_type": "markdown",
   "id": "8b0c5a94",
   "metadata": {},
   "source": [
    "### Problem 2\n",
    "#### Numerical Operations"
   ]
  },
  {
   "cell_type": "code",
   "execution_count": 1,
   "id": "9d39bf43",
   "metadata": {},
   "outputs": [],
   "source": [
    "def add(x,y):\n",
    "    sum1 = x+y\n",
    "    return sum1\n",
    "def sub(x,y):\n",
    "    sum2 = x-y\n",
    "    return sum2\n",
    "def mult(x,y):\n",
    "    sum3 = x*y\n",
    "    return sum3\n",
    "def div(x,y):\n",
    "    sum4 = x/y\n",
    "    return sum4\n",
    "def mod(x,y):\n",
    "    sum5 = x%y\n",
    "    return sum5"
   ]
  },
  {
   "cell_type": "code",
   "execution_count": 10,
   "id": "4c3d8e22",
   "metadata": {},
   "outputs": [
    {
     "name": "stdout",
     "output_type": "stream",
     "text": [
      "x = 55\n",
      "y = 3\n",
      "58\n",
      "52\n",
      "165\n",
      "18\n",
      "1\n"
     ]
    }
   ],
   "source": [
    "x = int(input(\"x = \"))\n",
    "y = int(input(\"y = \"))\n",
    "\n",
    "sum1 = add(x,y)\n",
    "print(sum1)\n",
    "sum2 = sub(x,y)\n",
    "print(sum2)\n",
    "sum3 = mult(x,y)\n",
    "print(sum3)\n",
    "sum4 = div(x,y)\n",
    "print(int(sum4))\n",
    "sum5 = mod(x,y)\n",
    "print(sum5)\n"
   ]
  },
  {
   "cell_type": "markdown",
   "id": "4dc4f234",
   "metadata": {},
   "source": [
    "### Problem 3\n",
    "#### BMI Calculator"
   ]
  },
  {
   "cell_type": "code",
   "execution_count": 9,
   "id": "5b74fa6c",
   "metadata": {},
   "outputs": [],
   "source": [
    "def bmi(kg,cm):\n",
    "    out = kg/((cm/100)**2)\n",
    "    \n",
    "    return out"
   ]
  },
  {
   "cell_type": "code",
   "execution_count": 12,
   "id": "3930e468",
   "metadata": {
    "scrolled": false
   },
   "outputs": [
    {
     "name": "stdout",
     "output_type": "stream",
     "text": [
      "kg = 65\n",
      "cm = 180\n",
      "20.061728395061728\n"
     ]
    }
   ],
   "source": [
    "kg = int(input(\"kg = \" ))\n",
    "cm = int(input(\"cm = \"))\n",
    "\n",
    "out = bmi(kg,cm)\n",
    "print(out)"
   ]
  },
  {
   "cell_type": "code",
   "execution_count": null,
   "id": "2cb7f8a3",
   "metadata": {},
   "outputs": [],
   "source": []
  }
 ],
 "metadata": {
  "kernelspec": {
   "display_name": "Python 3",
   "language": "python",
   "name": "python3"
  },
  "language_info": {
   "codemirror_mode": {
    "name": "ipython",
    "version": 3
   },
   "file_extension": ".py",
   "mimetype": "text/x-python",
   "name": "python",
   "nbconvert_exporter": "python",
   "pygments_lexer": "ipython3",
   "version": "3.8.8"
  }
 },
 "nbformat": 4,
 "nbformat_minor": 5
}
