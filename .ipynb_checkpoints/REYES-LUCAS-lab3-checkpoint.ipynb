{
 "cells": [
  {
   "cell_type": "markdown",
   "id": "ee9cabbc",
   "metadata": {},
   "source": [
    "##### Student No. 204303\n",
    "##### Surname: REYES\n",
    "##### YR and Course: 2 BS ITE"
   ]
  },
  {
   "cell_type": "markdown",
   "id": "c6630ada",
   "metadata": {},
   "source": [
    "### Problem 1\n",
    "#### Caesar Cipher"
   ]
  },
  {
   "cell_type": "code",
   "execution_count": 1,
   "id": "7bd49dec",
   "metadata": {},
   "outputs": [],
   "source": [
    "def problem_1(message,shift):\n",
    "    \n",
    "    new = \"\"\n",
    "    \n",
    "    for char in message:\n",
    "        if char.isupper() == True:\n",
    "            \n",
    "            code = ord(char) + shift\n",
    "            \n",
    "            if code > 90:\n",
    "                while code > 90:\n",
    "                    code = code - 90 + 64\n",
    "                    if code < 90: break\n",
    "                trans = chr(code)\n",
    "                new += trans\n",
    "                \n",
    "            else:\n",
    "                trans = chr(code)\n",
    "                new += trans\n",
    "                \n",
    "        elif char.isspace() == True:\n",
    "            new += char\n",
    "        elif char.islower() == True:\n",
    "            new = \"ERROR\"\n",
    "            \n",
    "    return new"
   ]
  },
  {
   "cell_type": "code",
   "execution_count": 3,
   "id": "90ccb737",
   "metadata": {
    "scrolled": true
   },
   "outputs": [
    {
     "data": {
      "text/plain": [
       "'CUQCEHU'"
      ]
     },
     "execution_count": 3,
     "metadata": {},
     "output_type": "execute_result"
    }
   ],
   "source": [
    "problem_1(\"MEAMORE\",42)"
   ]
  },
  {
   "cell_type": "markdown",
   "id": "bd952fbf",
   "metadata": {},
   "source": [
    "### Problem 2\n",
    "#### Social Media Relationships"
   ]
  },
  {
   "cell_type": "code",
   "execution_count": 4,
   "id": "2f10b469",
   "metadata": {},
   "outputs": [],
   "source": [
    "social_graph = {\n",
    "    \"@bongolpoc\":{\"first_name\":\"Joselito\",\n",
    "                  \"last_name\":\"Olpoc\",\n",
    "                  \"following\":[\n",
    "                  ]\n",
    "    },\n",
    "    \"@joaquin\":  {\"first_name\":\"Joaquin\",\n",
    "                  \"last_name\":\"Gonzales\",\n",
    "                  \"following\":[\n",
    "                      \"@chums\",\"@jobenilagan\"\n",
    "                  ]\n",
    "    },\n",
    "    \"@chums\" : {\"first_name\":\"Matthew\",\n",
    "                \"last_name\":\"Uy\",\n",
    "                \"following\":[\n",
    "                    \"@bongolpoc\",\"@miketan\",\"@rudyang\",\"@joeilagan\"\n",
    "                ]\n",
    "    },\n",
    "    \"@jobenilagan\":{\"first_name\":\"Joben\",\n",
    "                   \"last_name\":\"Ilagan\",\n",
    "                   \"following\":[\n",
    "                    \"@eeebeee\",\"@joeilagan\",\"@chums\",\"@joaquin\"\n",
    "                   ]\n",
    "    },\n",
    "    \"@joeilagan\":{\"first_name\":\"Joe\",\n",
    "                  \"last_name\":\"Ilagan\",\n",
    "                  \"following\":[\n",
    "                    \"@eeebeee\",\"@jobenilagan\",\"@chums\"\n",
    "                  ]\n",
    "    },\n",
    "    \"@eeebeee\":  {\"first_name\":\"Elizabeth\",\n",
    "                  \"last_name\":\"Ilagan\",\n",
    "                  \"following\":[\n",
    "                    \"@jobenilagan\",\"@joeilagan\"\n",
    "                  ]\n",
    "    },\n",
    "}\n",
    "\n",
    "def relationship_status(from_member,to_member,social_graph):\n",
    "    \n",
    "    status = \"\"\n",
    "    \n",
    "    if to_member in social_graph[from_member][\"following\"] and from_member in social_graph[to_member][\"following\"]:\n",
    "        status = \"Friends\"\n",
    "        \n",
    "    elif to_member in social_graph[from_member][\"following\"]:\n",
    "        status = \"Follower\"\n",
    "        \n",
    "    elif from_member in social_graph[to_member][\"following\"]:\n",
    "        status = \"Followed by\"\n",
    "    \n",
    "    else:\n",
    "        status = \"None\"\n",
    "        \n",
    "    return status\n"
   ]
  },
  {
   "cell_type": "code",
   "execution_count": 5,
   "id": "080fc890",
   "metadata": {},
   "outputs": [
    {
     "data": {
      "text/plain": [
       "'Follower'"
      ]
     },
     "execution_count": 5,
     "metadata": {},
     "output_type": "execute_result"
    }
   ],
   "source": [
    "relationship_status(\"@joaquin\",\"@chums\",social_graph)"
   ]
  },
  {
   "cell_type": "markdown",
   "id": "cee31ef9",
   "metadata": {},
   "source": [
    "### Problem 3\n",
    "#### Tic Tac Toe"
   ]
  },
  {
   "cell_type": "code",
   "execution_count": 6,
   "id": "992564d6",
   "metadata": {},
   "outputs": [],
   "source": [
    "def tic_tac_toe(board):\n",
    "\n",
    "    win = \"\"\n",
    "    board_size = len(board)\n",
    "    \n",
    "    while win == \"\":\n",
    "        \n",
    "        #rows\n",
    "        for row in board:\n",
    "            if all(move == \"X\" for move in row):\n",
    "                win = \"X\"\n",
    "            elif all(move == \"O\" for move in row):\n",
    "                win = \"O\"\n",
    "                \n",
    "        if win == \"X\" or win == \"O\":\n",
    "            break\n",
    "            \n",
    "        #columns\n",
    "        for h in range(board_size):\n",
    "            if all(move == \"X\" for move in (list(board[i][h] for i in range(board_size)))):\n",
    "                win = \"X\"\n",
    "            elif all(move == \"O\" for move in (list(board[i][h] for i in range(board_size)))):\n",
    "                win = \"O\"\n",
    "                \n",
    "        if win == \"X\" or win == \"O\":\n",
    "            break\n",
    "        \n",
    "        #diagonals\n",
    "        if all(move == \"X\" for move in (list(board[i][i] for i in range(board_size)))) or all(move == \"X\" for move in (list(board[board_size - 1 - i][i] for i in range(board_size)))):\n",
    "            win = \"X\"\n",
    "        elif all(move == \"O\" for move in (list(board[i][i] for i in range(board_size)))) or all(move == \"O\" for move in (list(board[board_size - 1 - i][i] for i in range(board_size)))):\n",
    "            win = \"O\"\n",
    "            \n",
    "        if win == \"X\" or win == \"O\":\n",
    "            break\n",
    "            \n",
    "        win = \"None\"\n",
    "    \n",
    "    return win"
   ]
  },
  {
   "cell_type": "code",
   "execution_count": 7,
   "id": "94057d06",
   "metadata": {},
   "outputs": [
    {
     "data": {
      "text/plain": [
       "'None'"
      ]
     },
     "execution_count": 7,
     "metadata": {},
     "output_type": "execute_result"
    }
   ],
   "source": [
    "board1 = [\n",
    "['X','O','X'],\n",
    "['X','X','O'],\n",
    "['X','','X'],\n",
    "]\n",
    "\n",
    "board3 = [\n",
    "['O','X','O'],\n",
    "['','O','X'],\n",
    "['X','X','O'],\n",
    "]\n",
    "\n",
    "board4 = [\n",
    "['X','','X'],\n",
    "['O','X','O'],\n",
    "['O','O','O'],\n",
    "]\n",
    "\n",
    "board6 = [\n",
    "['X','X','O'],\n",
    "['O','X','O'],\n",
    "['X','O',''],\n",
    "]\n",
    "\n",
    "tic_tac_toe(board6)"
   ]
  },
  {
   "cell_type": "markdown",
   "id": "cc4be525",
   "metadata": {},
   "source": [
    "### Problem 4\n",
    "#### Routing"
   ]
  },
  {
   "cell_type": "code",
   "execution_count": 9,
   "id": "4ddb3668",
   "metadata": {},
   "outputs": [],
   "source": [
    "legs = {\n",
    "     (\"upd\",\"admu\"):{\n",
    "         \"travel_time_mins\":10\n",
    "     },\n",
    "     (\"admu\",\"dlsu\"):{\n",
    "         \"travel_time_mins\":35\n",
    "     },\n",
    "     (\"dlsu\",\"upd\"):{\n",
    "         \"travel_time_mins\":55\n",
    "     }\n",
    "}\n",
    "\n",
    "def eta(legs,source,destination):\n",
    "    time = 0\n",
    "    i = True\n",
    "    \n",
    "    while i == True:\n",
    "        for key in legs:\n",
    "            #current leg\n",
    "            cleg = key[0]\n",
    "            #next leg\n",
    "            nleg = key[1]\n",
    "            #travel time\n",
    "            tt = legs[key][\"travel_time_mins\"]\n",
    "            \n",
    "            if cleg == source:\n",
    "                source = nleg\n",
    "                time += tt\n",
    "            if source == destination:\n",
    "                i = False\n",
    "                break\n",
    "                \n",
    "    return time"
   ]
  },
  {
   "cell_type": "code",
   "execution_count": 10,
   "id": "7fb2d9b6",
   "metadata": {},
   "outputs": [
    {
     "data": {
      "text/plain": [
       "100"
      ]
     },
     "execution_count": 10,
     "metadata": {},
     "output_type": "execute_result"
    }
   ],
   "source": [
    "eta(legs,\"upd\",\"upd\")"
   ]
  },
  {
   "cell_type": "code",
   "execution_count": null,
   "id": "da8d8764",
   "metadata": {},
   "outputs": [],
   "source": []
  }
 ],
 "metadata": {
  "kernelspec": {
   "display_name": "Python 3",
   "language": "python",
   "name": "python3"
  },
  "language_info": {
   "codemirror_mode": {
    "name": "ipython",
    "version": 3
   },
   "file_extension": ".py",
   "mimetype": "text/x-python",
   "name": "python",
   "nbconvert_exporter": "python",
   "pygments_lexer": "ipython3",
   "version": "3.8.8"
  }
 },
 "nbformat": 4,
 "nbformat_minor": 5
}
