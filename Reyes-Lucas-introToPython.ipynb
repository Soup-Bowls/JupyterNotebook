{
 "cells": [
  {
   "cell_type": "markdown",
   "id": "e9c73317",
   "metadata": {},
   "source": [
    "##### ID Number: 204303\n",
    "##### Surname: Reyes\n",
    "##### Year and Course: 2 BS ITE"
   ]
  },
  {
   "cell_type": "markdown",
   "id": "5a6aa5b5",
   "metadata": {},
   "source": [
    "average of 3 positive integers\n",
    "\n",
    "1. input 1st no.\n",
    "2. input 2nd no.\n",
    "3. input 3rd no.\n",
    "4. compute for average\n",
    "5. display average"
   ]
  },
  {
   "cell_type": "code",
   "execution_count": 1,
   "id": "7ee2876f",
   "metadata": {},
   "outputs": [],
   "source": [
    "def three_number_average(firstN,secondN,thirdN):\n",
    "    ave = (firstN + secondN + thirdN)/3\n",
    "    return ave"
   ]
  },
  {
   "cell_type": "code",
   "execution_count": 3,
   "id": "57ae3291",
   "metadata": {},
   "outputs": [
    {
     "name": "stdout",
     "output_type": "stream",
     "text": [
      "Enter first number: 2\n",
      "Enter second number: 6\n",
      "Enter third number: 7\n",
      "The average is 5.0\n"
     ]
    }
   ],
   "source": [
    "n1 = float(input(\"Enter first number: \"))\n",
    "n2 = float(input(\"Enter second number: \"))\n",
    "n3 = float(input(\"Enter third number: \"))\n",
    "\n",
    "ave = three_number_average(n1,n2,n3)\n",
    "\n",
    "print(\"The average is\", ave)"
   ]
  },
  {
   "cell_type": "code",
   "execution_count": null,
   "id": "dfbf25d2",
   "metadata": {},
   "outputs": [],
   "source": []
  }
 ],
 "metadata": {
  "kernelspec": {
   "display_name": "Python 3",
   "language": "python",
   "name": "python3"
  },
  "language_info": {
   "codemirror_mode": {
    "name": "ipython",
    "version": 3
   },
   "file_extension": ".py",
   "mimetype": "text/x-python",
   "name": "python",
   "nbconvert_exporter": "python",
   "pygments_lexer": "ipython3",
   "version": "3.8.8"
  }
 },
 "nbformat": 4,
 "nbformat_minor": 5
}
